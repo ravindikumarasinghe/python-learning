{
 "cells": [
  {
   "cell_type": "code",
   "execution_count": 3,
   "metadata": {},
   "outputs": [
    {
     "name": "stdout",
     "output_type": "stream",
     "text": [
      "Name: Chuck\n",
      "Hide: yes\n"
     ]
    }
   ],
   "source": [
    "import json\n",
    "data = '''\n",
    "{\n",
    "    \"name\" : \"Chuck\",\n",
    "    \"phone\" : {\n",
    "        \"type\" : \"intl\",\n",
    "        \"number\" : \"0779395415\"\n",
    "    },\n",
    "    \"email\" : {\n",
    "        \"hide\" : \"yes\"\n",
    "    }\n",
    "}'''\n",
    "\n",
    "info =json.loads(data)\n",
    "print('Name:', info[\"name\"])\n",
    "print('Hide:',info[\"email\"][\"hide\"])"
   ]
  },
  {
   "cell_type": "code",
   "execution_count": 8,
   "metadata": {},
   "outputs": [
    {
     "name": "stdout",
     "output_type": "stream",
     "text": [
      "User Count: [{'id': '001', 'x': '2', 'name': 'Chuck'}, {'id': '009', 'x': '7', 'name': 'Chuck'}]\n",
      "Name Chuck\n",
      "Id 001\n",
      "Attribute 2\n",
      "Name Chuck\n",
      "Id 009\n",
      "Attribute 7\n"
     ]
    }
   ],
   "source": [
    "import json\n",
    "input = '''\n",
    "[\n",
    "    { \"id\" : \"001\",\n",
    "        \"x\" : \"2\",\n",
    "        \"name\" : \"Chuck\"\n",
    "    },\n",
    "    { \"id\" : \"009\",\n",
    "        \"x\" : \"7\",\n",
    "        \"name\" : \"Chuck\"\n",
    "    }\n",
    "\n",
    "]'''\n",
    "info = json.loads(input)\n",
    "print('User Count:',info)\n",
    "\n",
    "for item in info:\n",
    "    print('Name', item['name'])\n",
    "    print('Id', item['id'])\n",
    "    print('Attribute', item['x'])"
   ]
  },
  {
   "cell_type": "code",
   "execution_count": null,
   "metadata": {},
   "outputs": [],
   "source": []
  }
 ],
 "metadata": {
  "kernelspec": {
   "display_name": "Python 3",
   "language": "python",
   "name": "python3"
  },
  "language_info": {
   "codemirror_mode": {
    "name": "ipython",
    "version": 3
   },
   "file_extension": ".py",
   "mimetype": "text/x-python",
   "name": "python",
   "nbconvert_exporter": "python",
   "pygments_lexer": "ipython3",
   "version": "3.8.3"
  }
 },
 "nbformat": 4,
 "nbformat_minor": 4
}
